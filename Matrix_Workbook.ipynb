{
 "cells": [
  {
   "cell_type": "markdown",
   "id": "af09cbc4-5937-4bb2-9e78-23ce5e8c8c44",
   "metadata": {},
   "source": [
    "# Matrices and Matrix Operations"
   ]
  },
  {
   "cell_type": "markdown",
   "id": "cabe98e4-11bf-4428-b735-fe64a8e23a17",
   "metadata": {},
   "source": [
    "Welcome to this workbook on matrices and matrix operations!\n",
    "This workbook is designed to give a little background information \n",
    "about what matrices are, and how can matrices be manipulated in \n",
    "complex mathematical problems. Inside this workbook, python code \n",
    "using and manipulating matrices can be found."
   ]
  },
  {
   "cell_type": "markdown",
   "id": "2d693c83-07ce-4617-a2f3-312b90608690",
   "metadata": {},
   "source": [
    "## What are matrices?"
   ]
  },
  {
   "cell_type": "markdown",
   "id": "ec726e6c-7aed-431a-b62a-17e25c42565d",
   "metadata": {},
   "source": [
    "The first question that may be asked from someone who does not \n",
    "know what a matrix is would most likely be, \"What is a matrix?\"\n",
    "A very simple answer to that question is that a matrix is an \n",
    "array of numbers or variables. \n",
    "\n",
    "For example, a vector (from calculus or physics) is a very simple matrix \n",
    "e.g., $\\begin{bmatrix} 1 & 2 & 3 \\end{bmatrix}$.\n",
    "\n",
    "However, matrices can look a lot more complicated as well \n",
    "e.g., \n",
    "$\\begin{bmatrix}\n",
    " 1 & 2 & 3 \\\\\n",
    " 4 & 5 & 6 \\\\\n",
    " 7 & 8 & 9 \n",
    "\\end{bmatrix}$\n",
    "\n",
    "So, let's begin by just making a simple 2 x 2 matrix in python!"
   ]
  },
  {
   "cell_type": "code",
   "execution_count": 1,
   "id": "d604d0cb-6b91-4b00-901f-286a750188b5",
   "metadata": {},
   "outputs": [
    {
     "name": "stdin",
     "output_type": "stream",
     "text": [
      "How many rows in the matrix? 2\n",
      "How many columns in the matrix? 2\n",
      "Value in position 00:  3\n",
      "Value in position 01:  7\n",
      "Value in position 10:  1\n",
      "Value in position 11:  9\n"
     ]
    },
    {
     "name": "stdout",
     "output_type": "stream",
     "text": [
      "\n",
      "\n",
      "['3', '7']\n",
      "['1', '9']\n"
     ]
    }
   ],
   "source": [
    "'''\n",
    "Here will build a simple matrix with some code!\n",
    "'''\n",
    "A = []\n",
    "row = int(input(\"How many rows in the matrix?\"))\n",
    "col = int(input(\"How many columns in the matrix?\"))\n",
    "\n",
    "for a in range(row):\n",
    "    rowval = []\n",
    "    for b in range(col):\n",
    "        rowval.append(input(f\"Value in position {a}{b}: \"))\n",
    "    A.append(rowval)\n",
    "        \n",
    "print(\"\\n\")\n",
    "\n",
    "for c in A:\n",
    "    print(c)"
   ]
  },
  {
   "cell_type": "markdown",
   "id": "ac145f21-5092-49b4-bcaa-867bf077ae7e",
   "metadata": {},
   "source": [
    "\n",
    "Above is a simple code to build a matrix. \n",
    "However, we will not want to keep writing this same code over \n",
    "and over again. Therefore, we will need code that can be called \n",
    "upon repeatedly to build the matrix that we want. \n",
    "This can be done by using what is called a function in python. \n",
    "Below is one such code to build a matrix."
   ]
  },
  {
   "cell_type": "code",
   "execution_count": 3,
   "id": "a321560d-3906-4195-88cd-7532a4deffcf",
   "metadata": {},
   "outputs": [],
   "source": [
    "def new_matrix(row,col):\n",
    "    '''\n",
    "    Here is a python function to build a new matrix.\n",
    "    \n",
    "    row and col must be integers, because these are the \n",
    "    dimensions of the matrix being created.\n",
    "    '''\n",
    "    # The code below is using list comprehension\n",
    "    mat = [\n",
    "        [int(input(f\"Value for element {i}{j}\")) for j in range(col)]\n",
    "        for i in range(row)\n",
    "    ]\n",
    "    \n",
    "    return mat"
   ]
  },
  {
   "cell_type": "markdown",
   "id": "a6a2a8ed-e21d-4002-a443-2d7a927add14",
   "metadata": {},
   "source": [
    "Now that we have the function coded up, let's use it to \n",
    "build a 3 x 3 matrix."
   ]
  },
  {
   "cell_type": "code",
   "execution_count": 4,
   "id": "3cab24b4-4027-4969-a6dc-c663e1e2b72c",
   "metadata": {},
   "outputs": [
    {
     "name": "stdin",
     "output_type": "stream",
     "text": [
      "Value for element 00 1\n",
      "Value for element 01 2\n",
      "Value for element 02 3\n",
      "Value for element 10 4\n",
      "Value for element 11 5\n",
      "Value for element 12 6\n",
      "Value for element 20 7\n",
      "Value for element 21 8\n",
      "Value for element 22 9\n"
     ]
    },
    {
     "name": "stdout",
     "output_type": "stream",
     "text": [
      "[1, 2, 3]\n",
      "[4, 5, 6]\n",
      "[7, 8, 9]\n"
     ]
    }
   ],
   "source": [
    "B = new_matrix(3,3)\n",
    "\n",
    "for r,rw in enumerate(B):\n",
    "    print(rw)"
   ]
  },
  {
   "cell_type": "markdown",
   "id": "c6b52eb2-840a-45ed-8d21-aa6d02287ee3",
   "metadata": {},
   "source": [
    "Yay! We have now built our matrices! Before we get too far, there are \n",
    "two matrices that we need to build first. The first one is called the \n",
    "$\\textbf{null}$ matrix. This matrix is essentially just full of zeroes. \n",
    "The next matrix is full of ones."
   ]
  },
  {
   "cell_type": "code",
   "execution_count": 5,
   "id": "9c72ea00-3f4e-4ad7-b51e-03d7faccfb6a",
   "metadata": {},
   "outputs": [],
   "source": [
    "def null_matrix(row,col):\n",
    "    '''\n",
    "    Here we will build the null matrix, \n",
    "    also known as the zeroes matrix.\n",
    "    \n",
    "    row is the number of rows and \n",
    "    col is the number of columns\n",
    "    '''\n",
    "    zmat = [\n",
    "        [0 for j in range(col)]\n",
    "        for i in range(row)\n",
    "    ]\n",
    "    \n",
    "    return zmat"
   ]
  },
  {
   "cell_type": "code",
   "execution_count": 5,
   "id": "60267fae-6007-4ff0-8c0e-abd22640e152",
   "metadata": {},
   "outputs": [
    {
     "name": "stdout",
     "output_type": "stream",
     "text": [
      "[0, 0, 0]\n",
      "[0, 0, 0]\n",
      "[0, 0, 0]\n"
     ]
    }
   ],
   "source": [
    "Z = null_matrix(3,3)\n",
    "\n",
    "for a in Z:\n",
    "    print(a)"
   ]
  },
  {
   "cell_type": "code",
   "execution_count": 6,
   "id": "36f8be37-8024-4857-b745-1f019bb7ea77",
   "metadata": {},
   "outputs": [],
   "source": [
    "def ones_mat(row,col):\n",
    "    '''\n",
    "    Here we will build the matrix of ones.\n",
    "    \n",
    "    Same rules apply as the null matrix.\n",
    "    row is number of rows and \n",
    "    col is number of columns\n",
    "    '''\n",
    "    omat = [\n",
    "        [1 for j in range(col)]\n",
    "        for i in range(row)\n",
    "    ]\n",
    "    \n",
    "    return omat"
   ]
  },
  {
   "cell_type": "code",
   "execution_count": 7,
   "id": "ceb1b159-152d-45de-8846-26ca44f31a2e",
   "metadata": {},
   "outputs": [
    {
     "name": "stdout",
     "output_type": "stream",
     "text": [
      "[1, 1, 1]\n",
      "[1, 1, 1]\n",
      "[1, 1, 1]\n"
     ]
    }
   ],
   "source": [
    "On = ones_mat(3,3)\n",
    "\n",
    "for a in On:\n",
    "    print(a)"
   ]
  },
  {
   "cell_type": "markdown",
   "id": "3fbbb4bc-c598-469d-a698-71fcfc053aaf",
   "metadata": {},
   "source": [
    "## Matrix Addition and Subtraction"
   ]
  },
  {
   "cell_type": "markdown",
   "id": "c4bfa4d4-e011-4d25-91b7-34a7accbaf90",
   "metadata": {},
   "source": [
    "Now that we have our matrices, it is finally time to get into some simple \n",
    "matrix operations. The first operation(s) will be simple addition and \n",
    "subtraction of matrices.\n",
    "\n",
    "An important point to remember is that during matrix addition and subtraction, \n",
    "the matrices must be of the same dimensions. For example, a 2 x 2 matrix can \n",
    "be added to another 2 x 2 matrix. However, a 2 x 2 matrix cannot be added to \n",
    "a 3 x 3 matrix.\n",
    "\n",
    "With that we can now add two matrices together. The way two matrices are added/subtracted \n",
    "is adding(subtracting) the value in the first matrix by the value in the same position \n",
    "in the second matrix.\n",
    "\n",
    "For example, \n",
    "$\\begin{bmatrix}\n",
    " 4 & 3 & 1 \\\\\n",
    " 5 & 9 & 12 \\\\\n",
    " 2 & 8 & 6\n",
    "\\end{bmatrix}\n",
    "+\n",
    "\\begin{bmatrix}\n",
    " 4 & 6 & 5 \\\\\n",
    " 3 & 8 & 10 \\\\\n",
    " 1 & 9 & 2\n",
    "\\end{bmatrix}\n",
    "=\n",
    "\\begin{bmatrix}\n",
    " 4 + 4 & 3 + 6 & 1 + 5 \\\\\n",
    " 5 + 3 & 9 + 8 & 12 + 10 \\\\\n",
    " 2 + 1 & 8 + 9 & 6 + 2\n",
    "\\end{bmatrix}\n",
    "=\n",
    "\\begin{bmatrix}\n",
    " 8 & 9 & 6 \\\\\n",
    " 8 & 17 & 22 \\\\\n",
    " 3 & 17 & 8\n",
    "\\end{bmatrix}$"
   ]
  },
  {
   "cell_type": "code",
   "execution_count": 7,
   "id": "6f31e39a-c69f-4cbd-acab-aca9c54e3397",
   "metadata": {},
   "outputs": [
    {
     "name": "stdin",
     "output_type": "stream",
     "text": [
      "Value for element 00 1\n",
      "Value for element 01 2\n",
      "Value for element 10 3\n",
      "Value for element 11 4\n",
      "Value for element 00 5\n",
      "Value for element 01 6\n",
      "Value for element 10 7\n",
      "Value for element 11 8\n",
      "Value for element 00 3\n",
      "Value for element 01 5\n",
      "Value for element 10 6\n",
      "Value for element 11 2\n",
      "Value for element 20 6\n",
      "Value for element 21 8\n"
     ]
    }
   ],
   "source": [
    "##### First let's make two 2 x 2 matrices\n",
    "mat1 = new_matrix(2,2)\n",
    "mat2 = new_matrix(2,2)\n",
    "\n",
    "# To bring up an error let's first make a 3 x 2 matrix\n",
    "mat4 = new_matrix(3,2)"
   ]
  },
  {
   "cell_type": "code",
   "execution_count": 10,
   "id": "232524f0-dbc2-4cf3-86e3-478d0d8cea91",
   "metadata": {},
   "outputs": [
    {
     "name": "stdout",
     "output_type": "stream",
     "text": [
      "[6, 8]\n",
      "[10, 12]\n"
     ]
    }
   ],
   "source": [
    "'''\n",
    "First we will do a step by step coding of the matrix addition\n",
    "'''\n",
    "# Initialize empty list\n",
    "mat12 = []\n",
    "\n",
    "# Make sure that the rows and columns of each matrix are equal\n",
    "if len(mat1) == len(mat2) and len(mat1[0]) == len(mat2[0]):\n",
    "    # Go through the rows of the first matrix\n",
    "    # We will use enumerate to get the indices and \n",
    "    # the elements at the same time\n",
    "    for a,b in enumerate(mat1):\n",
    "        # Initialize temp list to save values\n",
    "        # for each column\n",
    "        temp = []\n",
    "        # Now go through the columns\n",
    "        for c,d in enumerate(mat1[a]):\n",
    "            # Add summation of element from \n",
    "            # matrix 1 and 2 and append to \n",
    "            # temp list\n",
    "            temp.append(d + mat2[a][c])\n",
    "        # Add temp list to the new matrix\n",
    "        mat12.append(temp)\n",
    "\n",
    "for e in mat12:\n",
    "    print(e)"
   ]
  },
  {
   "cell_type": "markdown",
   "id": "9aaa0cdf-bd60-41a3-b9a3-83ecfbad299d",
   "metadata": {},
   "source": [
    "Now we will make the addition a function."
   ]
  },
  {
   "cell_type": "code",
   "execution_count": 8,
   "id": "62de339f-1f33-414a-9e0b-3a794db62955",
   "metadata": {},
   "outputs": [],
   "source": [
    "def matrix_add(matrixA,matrixB):\n",
    "    '''\n",
    "    This function adds the matrices together\n",
    "    \n",
    "    matrixA[i][j] + matrix[i][j] = matrixC[i][j]\n",
    "    \n",
    "    For the two matrices to be added together, the matrices \n",
    "    must be of the same dimensions\n",
    "    '''\n",
    "    # Lets set the rows and columns as variables\n",
    "    rowA = len(matrixA)\n",
    "    rowB = len(matrixB)\n",
    "    colA = len(matrixA[0])\n",
    "    colB = len(matrixB[0])\n",
    "    \n",
    "    # Check if the matrices are of the same dimensions\n",
    "    if rowA == rowB and colA == colB:\n",
    "        # Now we can add the matrices together\n",
    "        matrixC = [\n",
    "            [l + matrixB[i][k] for k,l in enumerate(matrixA[i])]\n",
    "            for i,j in enumerate(matrixA)\n",
    "        ]\n",
    "        \n",
    "    # Otherwise raise an error\n",
    "    else:\n",
    "        raise Exception(\"Matrices are not the same size!\")\n",
    "        \n",
    "    return matrixC"
   ]
  },
  {
   "cell_type": "markdown",
   "id": "79e3d1ea-5609-4dad-8115-c42ee32a0dbe",
   "metadata": {},
   "source": [
    "Now that we have the matrix addition coded up, let's test it. \n",
    "The first test will show the correct utilization of the code, \n",
    "and the second test will raise our error that we implemented."
   ]
  },
  {
   "cell_type": "code",
   "execution_count": 12,
   "id": "0dd4b035-a561-49dc-9e3e-e019c7e87163",
   "metadata": {},
   "outputs": [
    {
     "name": "stdout",
     "output_type": "stream",
     "text": [
      "[6, 8]\n",
      "[10, 12]\n"
     ]
    }
   ],
   "source": [
    "# Now let's add the matrices together\n",
    "mat3 = matrix_add(mat1,mat2)\n",
    "\n",
    "for a in mat3:\n",
    "    print(a)"
   ]
  },
  {
   "cell_type": "code",
   "execution_count": 13,
   "id": "4e7222a1-6ac5-432b-bcb3-b9ab54a98f26",
   "metadata": {},
   "outputs": [
    {
     "ename": "Exception",
     "evalue": "Matrices are not the same size!",
     "output_type": "error",
     "traceback": [
      "\u001b[0;31m---------------------------------------------------------------------------\u001b[0m",
      "\u001b[0;31mException\u001b[0m                                 Traceback (most recent call last)",
      "\u001b[0;32m/tmp/ipykernel_4437/1445908224.py\u001b[0m in \u001b[0;36m<module>\u001b[0;34m\u001b[0m\n\u001b[0;32m----> 1\u001b[0;31m \u001b[0mmat5\u001b[0m \u001b[0;34m=\u001b[0m \u001b[0mmatrix_add\u001b[0m\u001b[0;34m(\u001b[0m\u001b[0mmat1\u001b[0m\u001b[0;34m,\u001b[0m\u001b[0mmat4\u001b[0m\u001b[0;34m)\u001b[0m\u001b[0;34m\u001b[0m\u001b[0;34m\u001b[0m\u001b[0m\n\u001b[0m",
      "\u001b[0;32m/tmp/ipykernel_4437/4269494677.py\u001b[0m in \u001b[0;36mmatrix_add\u001b[0;34m(matrixA, matrixB)\u001b[0m\n\u001b[1;32m     24\u001b[0m     \u001b[0;31m# Otherwise raise an error\u001b[0m\u001b[0;34m\u001b[0m\u001b[0;34m\u001b[0m\u001b[0m\n\u001b[1;32m     25\u001b[0m     \u001b[0;32melse\u001b[0m\u001b[0;34m:\u001b[0m\u001b[0;34m\u001b[0m\u001b[0;34m\u001b[0m\u001b[0m\n\u001b[0;32m---> 26\u001b[0;31m         \u001b[0;32mraise\u001b[0m \u001b[0mException\u001b[0m\u001b[0;34m(\u001b[0m\u001b[0;34m\"Matrices are not the same size!\"\u001b[0m\u001b[0;34m)\u001b[0m\u001b[0;34m\u001b[0m\u001b[0;34m\u001b[0m\u001b[0m\n\u001b[0m\u001b[1;32m     27\u001b[0m \u001b[0;34m\u001b[0m\u001b[0m\n\u001b[1;32m     28\u001b[0m     \u001b[0;32mreturn\u001b[0m \u001b[0mmatrixC\u001b[0m\u001b[0;34m\u001b[0m\u001b[0;34m\u001b[0m\u001b[0m\n",
      "\u001b[0;31mException\u001b[0m: Matrices are not the same size!"
     ]
    }
   ],
   "source": [
    "mat5 = matrix_add(mat1,mat4)"
   ]
  },
  {
   "cell_type": "markdown",
   "id": "44f4b01f-abb2-405d-a43c-bb0f2c33de45",
   "metadata": {},
   "source": [
    "Now that the addition is completed, we can make the function for subtraction. \n",
    "The same rules apply for subtraction as it did for addition. The only \n",
    "difference is that instead of adding, we are now subtracting."
   ]
  },
  {
   "cell_type": "code",
   "execution_count": 9,
   "id": "73165ab6-a088-4290-9b6d-10fe66fc1c68",
   "metadata": {},
   "outputs": [],
   "source": [
    "def matrix_difference(matrixA,matrixB):\n",
    "    '''\n",
    "    This function subtracts the matrices together\n",
    "    \n",
    "    matrixA[i][j] - matrix[i][j] = matrixC[i][j]\n",
    "    \n",
    "    For the two matrices to be subtracted from each\n",
    "    other, the matrices \n",
    "    must be of the same dimensions\n",
    "    '''\n",
    "    # Lets set the rows and columns as variables\n",
    "    rowA = len(matrixA)\n",
    "    rowB = len(matrixB)\n",
    "    colA = len(matrixA[0])\n",
    "    colB = len(matrixB[0])\n",
    "    \n",
    "    # Check if the matrices are of the same dimensions\n",
    "    if rowA == rowB and colA == colB:\n",
    "        # Now we can add the matrices together\n",
    "        matrixC = [\n",
    "            [l - matrixB[i][k] for k,l in enumerate(matrixA[i])]\n",
    "            for i,j in enumerate(matrixA)\n",
    "        ]\n",
    "        \n",
    "    # Otherwise raise an error\n",
    "    else:\n",
    "        raise Exception(\"Matrices are not the same size!\")\n",
    "        \n",
    "    return matrixC"
   ]
  },
  {
   "cell_type": "markdown",
   "id": "24b06728-6533-43e2-ac9f-406cb125b04d",
   "metadata": {},
   "source": [
    "Now, let's test it."
   ]
  },
  {
   "cell_type": "code",
   "execution_count": 15,
   "id": "bad574fb-6d2b-4d27-8531-786f89a8c1a6",
   "metadata": {},
   "outputs": [
    {
     "name": "stdout",
     "output_type": "stream",
     "text": [
      "[4, 4]\n",
      "[4, 4]\n"
     ]
    }
   ],
   "source": [
    "mat6 = matrix_difference(mat2,mat1)\n",
    "\n",
    "for a in mat6:\n",
    "    print(a)"
   ]
  },
  {
   "cell_type": "code",
   "execution_count": 16,
   "id": "f4c2569e-8fd0-468a-9c19-86fb2381f222",
   "metadata": {},
   "outputs": [
    {
     "ename": "Exception",
     "evalue": "Matrices are not the same size!",
     "output_type": "error",
     "traceback": [
      "\u001b[0;31m---------------------------------------------------------------------------\u001b[0m",
      "\u001b[0;31mException\u001b[0m                                 Traceback (most recent call last)",
      "\u001b[0;32m/tmp/ipykernel_4437/4129444523.py\u001b[0m in \u001b[0;36m<module>\u001b[0;34m\u001b[0m\n\u001b[0;32m----> 1\u001b[0;31m \u001b[0mmat7\u001b[0m \u001b[0;34m=\u001b[0m \u001b[0mmatrix_difference\u001b[0m\u001b[0;34m(\u001b[0m\u001b[0mmat4\u001b[0m\u001b[0;34m,\u001b[0m\u001b[0mmat1\u001b[0m\u001b[0;34m)\u001b[0m\u001b[0;34m\u001b[0m\u001b[0;34m\u001b[0m\u001b[0m\n\u001b[0m",
      "\u001b[0;32m/tmp/ipykernel_4437/390738484.py\u001b[0m in \u001b[0;36mmatrix_difference\u001b[0;34m(matrixA, matrixB)\u001b[0m\n\u001b[1;32m     25\u001b[0m     \u001b[0;31m# Otherwise raise an error\u001b[0m\u001b[0;34m\u001b[0m\u001b[0;34m\u001b[0m\u001b[0m\n\u001b[1;32m     26\u001b[0m     \u001b[0;32melse\u001b[0m\u001b[0;34m:\u001b[0m\u001b[0;34m\u001b[0m\u001b[0;34m\u001b[0m\u001b[0m\n\u001b[0;32m---> 27\u001b[0;31m         \u001b[0;32mraise\u001b[0m \u001b[0mException\u001b[0m\u001b[0;34m(\u001b[0m\u001b[0;34m\"Matrices are not the same size!\"\u001b[0m\u001b[0;34m)\u001b[0m\u001b[0;34m\u001b[0m\u001b[0;34m\u001b[0m\u001b[0m\n\u001b[0m\u001b[1;32m     28\u001b[0m \u001b[0;34m\u001b[0m\u001b[0m\n\u001b[1;32m     29\u001b[0m     \u001b[0;32mreturn\u001b[0m \u001b[0mmatrixC\u001b[0m\u001b[0;34m\u001b[0m\u001b[0;34m\u001b[0m\u001b[0m\n",
      "\u001b[0;31mException\u001b[0m: Matrices are not the same size!"
     ]
    }
   ],
   "source": [
    "mat7 = matrix_difference(mat4,mat1)"
   ]
  },
  {
   "cell_type": "markdown",
   "id": "e7249c0b-411d-4609-a4c8-ea438be7effd",
   "metadata": {},
   "source": [
    "The last operation for matrices that has a summation is the \n",
    "Trace of the matrix, which is usually denoted as $\\textbf{Tr[A]}$ \n",
    "where $\\textbf{A}$ is the matrix. The trace of a matrix is simply \n",
    "the sum of the diagonal elements of the matrix. However, the trace \n",
    "of the matrix only exists if the matrix is a square matrix.\n",
    "\n",
    "$\\textbf{Tr[A]} = \\sum_i^n a_{ii}$\n",
    "\n",
    "For example:\n",
    "$\\textbf{Tr}\n",
    "\\begin{bmatrix}\n",
    " 1 & 2 & 3 \\\\\n",
    " 4 & 5 & 6 \\\\\n",
    " 7 & 8 & 9\n",
    "\\end{bmatrix}\n",
    "=\n",
    "1 + 5 + 9 = 15$\n",
    "\n",
    "Now, let's code it up!"
   ]
  },
  {
   "cell_type": "code",
   "execution_count": 17,
   "id": "2b4a77db-53cb-4450-8bc9-cf0a6504168c",
   "metadata": {},
   "outputs": [
    {
     "name": "stdout",
     "output_type": "stream",
     "text": [
      "[1, 2, 3]\n",
      "[4, 5, 6]\n",
      "[7, 8, 9]\n",
      "15\n"
     ]
    }
   ],
   "source": [
    "# Let's use the matrix B that we made earlier\n",
    "for k in B:\n",
    "    print(k)\n",
    "\n",
    "# First we will initialize the sum to 0\n",
    "tr_sum = 0\n",
    "\n",
    "# Then we will loop through the rows \n",
    "# of the matrix\n",
    "for a,b in enumerate(B):\n",
    "    # Sum the diagonal elements\n",
    "    tr_sum += B[a][a]\n",
    "        \n",
    "print(tr_sum)"
   ]
  },
  {
   "cell_type": "markdown",
   "id": "94b7c936-0a21-4043-82e7-6fe4d3e35863",
   "metadata": {},
   "source": [
    "We can now put the trace in as a function!"
   ]
  },
  {
   "cell_type": "code",
   "execution_count": 10,
   "id": "555dcbc4-d6ce-478c-809a-1497392f801e",
   "metadata": {},
   "outputs": [],
   "source": [
    "def trace_matrix(matrix):\n",
    "    '''\n",
    "    The trace is the sum of the \n",
    "    diagonal elements of a square matrix\n",
    "    '''\n",
    "    row = len(matrix)\n",
    "    col = len(matrix[0])\n",
    "    tr = 0\n",
    "    \n",
    "    if row == col:\n",
    "        for i,j in enumerate(matrix):\n",
    "            tr += matrix[i][i]\n",
    "    else:\n",
    "        raise Exception(\"Not a Square Matrix!\")\n",
    "        \n",
    "    return tr"
   ]
  },
  {
   "cell_type": "code",
   "execution_count": 19,
   "id": "d7b38a83-89ec-4a54-94a6-fb0f9f76b745",
   "metadata": {},
   "outputs": [
    {
     "name": "stdout",
     "output_type": "stream",
     "text": [
      "15\n"
     ]
    }
   ],
   "source": [
    "'''\n",
    "Now we can test the trace function\n",
    "'''\n",
    "tr_B = trace_matrix(B)\n",
    "print(tr_B)"
   ]
  },
  {
   "cell_type": "code",
   "execution_count": 20,
   "id": "94c8676f-2e16-42d9-8e8d-ce83d543628f",
   "metadata": {},
   "outputs": [
    {
     "ename": "Exception",
     "evalue": "Not a Square Matrix!",
     "output_type": "error",
     "traceback": [
      "\u001b[0;31m---------------------------------------------------------------------------\u001b[0m",
      "\u001b[0;31mException\u001b[0m                                 Traceback (most recent call last)",
      "\u001b[0;32m/tmp/ipykernel_4437/273900102.py\u001b[0m in \u001b[0;36m<module>\u001b[0;34m\u001b[0m\n\u001b[0;32m----> 1\u001b[0;31m \u001b[0mtr_mat4\u001b[0m \u001b[0;34m=\u001b[0m \u001b[0mtrace_matrix\u001b[0m\u001b[0;34m(\u001b[0m\u001b[0mmat4\u001b[0m\u001b[0;34m)\u001b[0m\u001b[0;34m\u001b[0m\u001b[0;34m\u001b[0m\u001b[0m\n\u001b[0m",
      "\u001b[0;32m/tmp/ipykernel_4437/534845773.py\u001b[0m in \u001b[0;36mtrace_matrix\u001b[0;34m(matrix)\u001b[0m\n\u001b[1;32m     12\u001b[0m             \u001b[0mtr\u001b[0m \u001b[0;34m+=\u001b[0m \u001b[0mmatrix\u001b[0m\u001b[0;34m[\u001b[0m\u001b[0mi\u001b[0m\u001b[0;34m]\u001b[0m\u001b[0;34m[\u001b[0m\u001b[0mi\u001b[0m\u001b[0;34m]\u001b[0m\u001b[0;34m\u001b[0m\u001b[0;34m\u001b[0m\u001b[0m\n\u001b[1;32m     13\u001b[0m     \u001b[0;32melse\u001b[0m\u001b[0;34m:\u001b[0m\u001b[0;34m\u001b[0m\u001b[0;34m\u001b[0m\u001b[0m\n\u001b[0;32m---> 14\u001b[0;31m         \u001b[0;32mraise\u001b[0m \u001b[0mException\u001b[0m\u001b[0;34m(\u001b[0m\u001b[0;34m\"Not a Square Matrix!\"\u001b[0m\u001b[0;34m)\u001b[0m\u001b[0;34m\u001b[0m\u001b[0;34m\u001b[0m\u001b[0m\n\u001b[0m\u001b[1;32m     15\u001b[0m \u001b[0;34m\u001b[0m\u001b[0m\n\u001b[1;32m     16\u001b[0m     \u001b[0;32mreturn\u001b[0m \u001b[0mtr\u001b[0m\u001b[0;34m\u001b[0m\u001b[0;34m\u001b[0m\u001b[0m\n",
      "\u001b[0;31mException\u001b[0m: Not a Square Matrix!"
     ]
    }
   ],
   "source": [
    "tr_mat4 = trace_matrix(mat4)"
   ]
  },
  {
   "cell_type": "markdown",
   "id": "b4154c70-0927-475d-addb-a6fad62d0507",
   "metadata": {},
   "source": [
    "## Matrix Multiplication"
   ]
  },
  {
   "cell_type": "markdown",
   "id": "f850f81f-4326-426a-8374-695adbbb3cc6",
   "metadata": {},
   "source": [
    "Now that the matrix addition, subtraction, and the trace of the \n",
    "matrix is covered. We can move onto matrix multiplication. This \n",
    "step is a little different compared to matrix addition and \n",
    "subtraction. The major difference is that although there is \n",
    "matrix multiplication, there is no matrix division. The \n",
    "\"dividing\" occurs through multiplying by the inverse of \n",
    "the matrix. However, that will be covered a little later.\n",
    "\n",
    "### Scalar Product\n",
    "\n",
    "Another difference is that there are a few different ways to \n",
    "multiply matrices. The first method is scalar multiplication, \n",
    "where the matrix is multiplied by a scalar. A scalar is just a \n",
    "single valued element. The integer 2 for example is a scalar.\n",
    "\n",
    "Before we get any further, let's code up scalar-matrix multiplication.\n",
    "\n",
    "First, scalar-matrix multiplication is multiplying every element in \n",
    "the matrix by the leading scalar.\n",
    "\n",
    "e.g., \n",
    "$c * \n",
    "\\begin{bmatrix}\n",
    " 1 & 2 & 3 \\\\\n",
    " 4 & 5 & 6 \\\\\n",
    " 7 & 8 & 9\n",
    "\\end{bmatrix}\n",
    "=\n",
    "\\begin{bmatrix}\n",
    " c*1 & c*2 & c*3 \\\\\n",
    " c*4 & c*5 & c*6 \\\\\n",
    " c*7 & c*8 & c*9\n",
    "\\end{bmatrix}$"
   ]
  },
  {
   "cell_type": "code",
   "execution_count": 21,
   "id": "1952e337-d22c-486c-8c23-4a232d77f29b",
   "metadata": {},
   "outputs": [
    {
     "name": "stdin",
     "output_type": "stream",
     "text": [
      "Value for element 00 1\n",
      "Value for element 01 2\n",
      "Value for element 10 3\n",
      "Value for element 11 4\n"
     ]
    },
    {
     "name": "stdout",
     "output_type": "stream",
     "text": [
      "[2, 4]\n",
      "[6, 8]\n"
     ]
    }
   ],
   "source": [
    "'''\n",
    "Let's code the scalar multiplication of a 2 x 2 matrix\n",
    "'''\n",
    "mat_t = new_matrix(2,2)\n",
    "# Set the scalar value\n",
    "scal = 2\n",
    "# Initialize new matrix\n",
    "cmat = []\n",
    "\n",
    "for i,j in enumerate(mat_t):\n",
    "    newrow = []\n",
    "    for k,l in enumerate(mat_t[i]):\n",
    "        newrow.append(scal * l)\n",
    "    cmat.append(newrow)\n",
    "    \n",
    "for a in cmat:\n",
    "    print(a)"
   ]
  },
  {
   "cell_type": "markdown",
   "id": "f3fce7cc-02ee-4f33-876f-20049306d144",
   "metadata": {},
   "source": [
    "Now let's build a function for scalar multiplication."
   ]
  },
  {
   "cell_type": "code",
   "execution_count": 11,
   "id": "4f0bd5e6-d520-421c-a7b8-3153714af13c",
   "metadata": {},
   "outputs": [],
   "source": [
    "def scalar_mult(matrix,scalar):\n",
    "    '''\n",
    "    The scalar multiplication takes the matrix and \n",
    "    the scalar multiple as the input parameters.\n",
    "    '''\n",
    "    scal_mat = [\n",
    "        [scalar * l for k,l in enumerate(matrix[i])]\n",
    "        for i,j in enumerate(matrix)\n",
    "    ]\n",
    "    \n",
    "    return scal_mat"
   ]
  },
  {
   "cell_type": "code",
   "execution_count": 24,
   "id": "454691ff-02fe-4a78-a81f-c3edb7fe2768",
   "metadata": {},
   "outputs": [
    {
     "name": "stdin",
     "output_type": "stream",
     "text": [
      "Value for element 00 4\n",
      "Value for element 01 7\n",
      "Value for element 02 3\n",
      "Value for element 10 6\n",
      "Value for element 11 2\n",
      "Value for element 12 9\n",
      "Value for element 20 1\n",
      "Value for element 21 5\n",
      "Value for element 22 8\n"
     ]
    },
    {
     "name": "stdout",
     "output_type": "stream",
     "text": [
      "[4, 7, 3]\n",
      "[6, 2, 9]\n",
      "[1, 5, 8]\n",
      "\n",
      "\n",
      "[12, 21, 9]\n",
      "[18, 6, 27]\n",
      "[3, 15, 24]\n"
     ]
    }
   ],
   "source": [
    "# Now time to test the function\n",
    "mat_t1 = new_matrix(3,3)\n",
    "scmat_t1 = scalar_mult(mat_t1,3)\n",
    "\n",
    "for i in mat_t1:\n",
    "    print(i)\n",
    "print(\"\\n\")\n",
    "for a in scmat_t1:\n",
    "    print(a)"
   ]
  },
  {
   "cell_type": "markdown",
   "id": "e39d5617-6b09-4ffb-8c1c-f729eae83fbd",
   "metadata": {},
   "source": [
    "### Dot Product\n",
    "Another multiplication technique is called the dot product or scalar product.\n",
    "This method is primarily used with two vectors (single row or single column \n",
    "matrices), however, the same principle applies to larger matrices. \n",
    "\n",
    "The result of the dot product between two matrices is a scalar. Hence, the \n",
    "name \"scalar\" product. The two matrices must be of the same dimensions for the \n",
    "dot product to exist. This is because the dot product is the sum of the products \n",
    "for each element, see equation below.\n",
    "\n",
    "$X = \\sum_{ij} a_{ij} * b_{ij}$\n",
    "\n",
    "Below is an example of a dot product between two vectors.\n",
    "\n",
    "$<1, 2, 3> * <4, 5, 6> = 1(4) + 2(5) + 3(6) = 4 + 10 + 18 = 32$\n",
    "\n",
    "Below is the dot product of a 2 x 2 matrix to show the same principle \n",
    "propogates through to larger matrices.\n",
    "\n",
    "$\\begin{bmatrix}\n",
    " 1 & 2 \\\\\n",
    " 3 & 4\n",
    "\\end{bmatrix}\n",
    "* \n",
    "\\begin{bmatrix}\n",
    " 2 & 4 \\\\\n",
    " 1 & 1\n",
    "\\end{bmatrix}\n",
    "=\n",
    "1(2) + 2(4) + 3(1) + 4(1) = 2 + 8 + 3 + 4 = 17$\n",
    "\n",
    "Let's try coding it below."
   ]
  },
  {
   "cell_type": "code",
   "execution_count": 13,
   "id": "383bc61e-0aba-464a-857d-128184de315d",
   "metadata": {},
   "outputs": [
    {
     "name": "stdin",
     "output_type": "stream",
     "text": [
      "Value for element 00 1\n",
      "Value for element 01 2\n",
      "Value for element 02 3\n",
      "Value for element 00 4\n",
      "Value for element 01 5\n",
      "Value for element 02 6\n"
     ]
    },
    {
     "name": "stdout",
     "output_type": "stream",
     "text": [
      "[1, 2, 3]\n",
      "\n",
      "\n",
      "[4, 5, 6]\n",
      "\n",
      "The value of the dot product is: 32\n"
     ]
    }
   ],
   "source": [
    "# Initialize two vectors\n",
    "vec1 = new_matrix(1,3)\n",
    "vec2 = new_matrix(1,3)\n",
    "# Initialize the scalar\n",
    "scal = 0\n",
    "\n",
    "for i,j in enumerate(vec1):\n",
    "    for k,l in enumerate(vec1[i]):\n",
    "        scal += l * vec2[i][k]\n",
    "        \n",
    "for a in vec1:\n",
    "    print(a)\n",
    "print(\"\\n\") \n",
    "for b in vec2:\n",
    "    print(b)\n",
    "\n",
    "print(f\"\\nThe value of the dot product is: {scal}\")"
   ]
  },
  {
   "cell_type": "code",
   "execution_count": 12,
   "id": "631400ea-be5b-46f4-996f-1829d8b70834",
   "metadata": {},
   "outputs": [],
   "source": [
    "def dot_prod(mat1,mat2):\n",
    "    '''\n",
    "    The matrices must be of the same dimensions\n",
    "    \n",
    "    The input is the two matrices multiplied together\n",
    "    '''\n",
    "    # Initialize the dimensions of the matrices and scalar\n",
    "    row1 = len(mat1)\n",
    "    row2 = len(mat2)\n",
    "    col1 = len(mat1[0])\n",
    "    col2 = len(mat2[0])\n",
    "    scalar = 0\n",
    "    \n",
    "    # Check if dimensions are the same\n",
    "    if row1 == row2 and col1 == col2:\n",
    "        for i,j in enumerate(mat1):\n",
    "            for k,l in enumerate(mat1[i]):\n",
    "                scalar += l * mat2[i][k]\n",
    "                \n",
    "    else:\n",
    "        raise Exception(\"Matrices are not of the same dimensions!\")\n",
    "        \n",
    "    return scalar"
   ]
  },
  {
   "cell_type": "code",
   "execution_count": 27,
   "id": "e25f33b1-bb30-4b36-bb65-a5da54ba3772",
   "metadata": {},
   "outputs": [
    {
     "name": "stdout",
     "output_type": "stream",
     "text": [
      "[[1, 2, 3]] [[4, 5, 6]]\n",
      "32\n"
     ]
    },
    {
     "name": "stdin",
     "output_type": "stream",
     "text": [
      "Value for element 00 1\n",
      "Value for element 01 2\n",
      "Value for element 02 3\n",
      "Value for element 03 4\n",
      "Value for element 10 5\n",
      "Value for element 11 6\n",
      "Value for element 12 7\n",
      "Value for element 13 8\n",
      "Value for element 20 9\n",
      "Value for element 21 10\n",
      "Value for element 22 11\n",
      "Value for element 23 12\n",
      "Value for element 00 13\n",
      "Value for element 01 14\n",
      "Value for element 02 15\n",
      "Value for element 03 16\n",
      "Value for element 10 17\n",
      "Value for element 11 18\n",
      "Value for element 12 19\n",
      "Value for element 13 20\n",
      "Value for element 20 21\n",
      "Value for element 21 22\n",
      "Value for element 22 23\n",
      "Value for element 23 24\n"
     ]
    },
    {
     "name": "stdout",
     "output_type": "stream",
     "text": [
      "[1, 2, 3, 4]\n",
      "[5, 6, 7, 8]\n",
      "[9, 10, 11, 12]\n",
      "[13, 14, 15, 16]\n",
      "[17, 18, 19, 20]\n",
      "[21, 22, 23, 24]\n",
      "1586\n"
     ]
    }
   ],
   "source": [
    "vec_prod = dot_prod(vec1,vec2)\n",
    "\n",
    "print(vec1,vec2)\n",
    "print(vec_prod)\n",
    "\n",
    "tmt1 = new_matrix(3,4)\n",
    "tmt2 = new_matrix(3,4)\n",
    "\n",
    "mat_prod = dot_prod(tmt1,tmt2)\n",
    "\n",
    "for a in tmt1:\n",
    "    print(a)\n",
    "    \n",
    "for b in tmt2:\n",
    "    print(b)\n",
    "    \n",
    "print(mat_prod)"
   ]
  },
  {
   "cell_type": "markdown",
   "id": "0fd8efd9-80a8-4e38-961e-6ff700e71a7a",
   "metadata": {},
   "source": [
    "### Matrix Multiplication\n",
    "\n",
    "Matrix multiplication is the process of multiplying two matrices together \n",
    "and get a matrix as the result, compared to when the dot product resulting \n",
    "in a scalar. However, matrix multiplication is a little more difficult than \n",
    "multiplying each element in one matrix by the element in the same location \n",
    "in the other matrix. In other words:\n",
    "\n",
    "$c_{ij} \\neq a_{ij} * b_{ij}$\n",
    "\n",
    "Rather the each entry in the product matrix is the result of the rows in matrix \n",
    "$\\textbf{A}$ being multiplied by the columns of matrix $\\textbf{B}$.\n",
    "\n",
    "$c_{ij} = \\sum_{ij} a_{ij} * b_{ji}$\n",
    "\n",
    "Due to this, the two matrices do not necessarily have to be of the same dimensions \n",
    "as in the dot product. Rather the amount of rows in matrix $\\textbf{B}$ has to equal \n",
    "the amount of columns in matrix $\\textbf{A}$ e.g., A 3 x 3 matrix times a 3 x 4 matrix \n",
    "would result in a 3 x 4 matrix. \n",
    "\n",
    "For example:\n",
    "\n",
    "$\\begin{bmatrix}\n",
    " 1 & 2 & 3 \\\\\n",
    " 4 & 5 & 6 \\\\\n",
    " 7 & 8 & 9\n",
    "\\end{bmatrix}\n",
    "*\n",
    "\\begin{bmatrix}\n",
    " 1 & 2 & 3 & 4 \\\\\n",
    " 2 & 3 & 4 & 5 \\\\\n",
    " 3 & 4 & 5 & 6\n",
    "\\end{bmatrix}\n",
    "=\n",
    "\\begin{bmatrix}\n",
    " 1(1) + 2(2) + 3(3) & 1(2) + 2(3) + 3(4) & 1(3) + 2(4) + 3(5) & 1(4) + 2(5) + 3(6) \\\\\n",
    " 4(1) + 5(2) + 6(3) & 4(2) + 5(3) + 6(4) & 4(3) + 5(4) + 6(5) & 4(4) + 5(5) + 6(6) \\\\\n",
    " 7(1) + 8(2) + 9(3) & 7(2) + 8(3) + 9(4) & 7(3) + 8(4) + 9(5) & 7(4) + 8(5) + 9(6)\n",
    "\\end{bmatrix}\n",
    "=\n",
    "\\begin{bmatrix}\n",
    " 14 & 20 & 26 & 32 \\\\\n",
    " 32 & 47 & 62 & 77 \\\\\n",
    " 50 & 74 & 98 & 122\n",
    "\\end{bmatrix}$\n",
    "\n",
    "Now let's try coding it up!"
   ]
  },
  {
   "cell_type": "code",
   "execution_count": 10,
   "id": "005e9860-1f44-49a0-a9c4-4538dc748b48",
   "metadata": {},
   "outputs": [
    {
     "name": "stdin",
     "output_type": "stream",
     "text": [
      "Value for element 00 1\n",
      "Value for element 01 2\n",
      "Value for element 02 3\n",
      "Value for element 10 4\n",
      "Value for element 11 5\n",
      "Value for element 12 6\n",
      "Value for element 20 7\n",
      "Value for element 21 8\n",
      "Value for element 22 9\n",
      "Value for element 00 1\n",
      "Value for element 01 2\n",
      "Value for element 02 3\n",
      "Value for element 03 4\n",
      "Value for element 10 2\n",
      "Value for element 11 3\n",
      "Value for element 12 4\n",
      "Value for element 13 5\n",
      "Value for element 20 3\n",
      "Value for element 21 4\n",
      "Value for element 22 5\n",
      "Value for element 23 6\n"
     ]
    },
    {
     "name": "stdout",
     "output_type": "stream",
     "text": [
      "[14, 20, 26, 32]\n",
      "[32, 47, 62, 77]\n",
      "[50, 74, 98, 122]\n"
     ]
    }
   ],
   "source": [
    "pmat1 = new_matrix(3,3)\n",
    "pmat2 = new_matrix(3,4)\n",
    "\n",
    "pmat3 = []\n",
    "\n",
    "# Loop through rows of first matrix\n",
    "for i,j in enumerate(pmat1):\n",
    "    temp = []\n",
    "    # Loop through columns of second matrix\n",
    "    for k,l in enumerate(pmat2[i]):\n",
    "        ent = 0\n",
    "        # Loop through rows of second matrix\n",
    "        for x,y in enumerate(pmat2):\n",
    "            ent += pmat1[i][x] * pmat2[x][k]\n",
    "        temp.append(ent)\n",
    "    pmat3.append(temp)\n",
    "\n",
    "for a in pmat3:\n",
    "    print(a)"
   ]
  },
  {
   "cell_type": "markdown",
   "id": "aae325da-ee85-4ca6-83f3-0fe060371cd0",
   "metadata": {},
   "source": [
    "Now we can make it a function!"
   ]
  },
  {
   "cell_type": "code",
   "execution_count": 13,
   "id": "ddafcde1-5935-4a93-a611-4028edd9ebc1",
   "metadata": {},
   "outputs": [],
   "source": [
    "def matrix_product(A,B):\n",
    "    '''\n",
    "    The function will accept two entries \n",
    "    matrix A and matrix B.\n",
    "    \n",
    "    The result will be a matrix with dimensions of \n",
    "    number of rows of A and number of columns of B\n",
    "    '''\n",
    "    # Initialize number of rows and columns of A and B\n",
    "    rowA = len(A)\n",
    "    colA = len(A[0])\n",
    "    rowB = len(B)\n",
    "    colB = len(B[0])\n",
    "    \n",
    "    # First make sure that number of rows of B \n",
    "    # equals number of columns of A\n",
    "    if rowB == colA:\n",
    "        # Make a dummy matrix of 0s with same number of rows\n",
    "        # as A and same number of columns as B\n",
    "        prod_mat = null_matrix(rowA,colB)\n",
    "    \n",
    "        # Loop through rows of A\n",
    "        for i,j in enumerate(A):\n",
    "            # Loop through columns of B\n",
    "            for k,l in enumerate(B[0]):\n",
    "                # Loop through rows of B\n",
    "                for x,y in enumerate(B):\n",
    "                    prod_mat[i][k] += A[i][x] * B[x][k]\n",
    "                    \n",
    "    # Else raise an exception\n",
    "    else:\n",
    "        raise Exception(\"Columns of A does not equal rows of B!\")\n",
    "        \n",
    "    return prod_mat"
   ]
  },
  {
   "cell_type": "code",
   "execution_count": 15,
   "id": "34b615f8-0749-4514-a825-246e079792da",
   "metadata": {},
   "outputs": [
    {
     "name": "stdout",
     "output_type": "stream",
     "text": [
      "[14, 20, 26, 32]\n",
      "[32, 47, 62, 77]\n",
      "[50, 74, 98, 122]\n"
     ]
    }
   ],
   "source": [
    "pmat4 = matrix_product(pmat1,pmat2)\n",
    "\n",
    "for a in pmat4:\n",
    "    print(a)"
   ]
  },
  {
   "cell_type": "markdown",
   "id": "9d3e69bd-5e02-475f-a8da-1b0546f30bcd",
   "metadata": {},
   "source": [
    "There are times that you will want to multiply two \n",
    "vectors together or matrices, however the dimensions \n",
    "of the rectangular matrices are the same so they cannot \n",
    "be multiplied together directly. See the example below:"
   ]
  },
  {
   "cell_type": "code",
   "execution_count": 16,
   "id": "494785f3-8e0a-4c3c-adca-39fb276cbb07",
   "metadata": {},
   "outputs": [
    {
     "name": "stdout",
     "output_type": "stream",
     "text": [
      "[1, 2, 3]\n",
      "[4, 5, 6]\n"
     ]
    },
    {
     "ename": "Exception",
     "evalue": "Columns of A does not equal rows of B!",
     "output_type": "error",
     "traceback": [
      "\u001b[0;31m---------------------------------------------------------------------------\u001b[0m",
      "\u001b[0;31mException\u001b[0m                                 Traceback (most recent call last)",
      "\u001b[0;32m/tmp/ipykernel_4421/3913461353.py\u001b[0m in \u001b[0;36m<module>\u001b[0;34m\u001b[0m\n\u001b[1;32m      5\u001b[0m     \u001b[0mprint\u001b[0m\u001b[0;34m(\u001b[0m\u001b[0mb\u001b[0m\u001b[0;34m)\u001b[0m\u001b[0;34m\u001b[0m\u001b[0;34m\u001b[0m\u001b[0m\n\u001b[1;32m      6\u001b[0m \u001b[0;34m\u001b[0m\u001b[0m\n\u001b[0;32m----> 7\u001b[0;31m \u001b[0mprint\u001b[0m\u001b[0;34m(\u001b[0m\u001b[0mmatrix_product\u001b[0m\u001b[0;34m(\u001b[0m\u001b[0mvec1\u001b[0m\u001b[0;34m,\u001b[0m\u001b[0mvec2\u001b[0m\u001b[0;34m)\u001b[0m\u001b[0;34m)\u001b[0m\u001b[0;34m\u001b[0m\u001b[0;34m\u001b[0m\u001b[0m\n\u001b[0m",
      "\u001b[0;32m/tmp/ipykernel_4421/1645484063.py\u001b[0m in \u001b[0;36mmatrix_product\u001b[0;34m(A, B)\u001b[0m\n\u001b[1;32m     30\u001b[0m     \u001b[0;31m# Else raise an exception\u001b[0m\u001b[0;34m\u001b[0m\u001b[0;34m\u001b[0m\u001b[0m\n\u001b[1;32m     31\u001b[0m     \u001b[0;32melse\u001b[0m\u001b[0;34m:\u001b[0m\u001b[0;34m\u001b[0m\u001b[0;34m\u001b[0m\u001b[0m\n\u001b[0;32m---> 32\u001b[0;31m         \u001b[0;32mraise\u001b[0m \u001b[0mException\u001b[0m\u001b[0;34m(\u001b[0m\u001b[0;34m\"Columns of A does not equal rows of B!\"\u001b[0m\u001b[0;34m)\u001b[0m\u001b[0;34m\u001b[0m\u001b[0;34m\u001b[0m\u001b[0m\n\u001b[0m\u001b[1;32m     33\u001b[0m \u001b[0;34m\u001b[0m\u001b[0m\n\u001b[1;32m     34\u001b[0m     \u001b[0;32mreturn\u001b[0m \u001b[0mprod_mat\u001b[0m\u001b[0;34m\u001b[0m\u001b[0;34m\u001b[0m\u001b[0m\n",
      "\u001b[0;31mException\u001b[0m: Columns of A does not equal rows of B!"
     ]
    }
   ],
   "source": [
    "for a in vec1:\n",
    "    print(a)\n",
    "    \n",
    "for b in vec2:\n",
    "    print(b)\n",
    "    \n",
    "print(matrix_product(vec1,vec2))"
   ]
  },
  {
   "cell_type": "markdown",
   "id": "6acfbe4c-b145-4327-8aeb-ee53a6ec7b6d",
   "metadata": {},
   "source": [
    "The vectors above are both horizontal vectors. Therefore, they \n",
    "cannot be multiplied directly. However, if the transpose of the \n",
    "second vector would be used instead, the result would be a 1 x 1 \n",
    "matrix.\n",
    "\n",
    "The transpose is just flipping the entries of the matrix.\n",
    "\n",
    "$a^{T}_{ij} = a_{ji}$\n",
    "\n",
    "$A^T = \n",
    "\\begin{bmatrix}\n",
    " 1 & 2 & 3\n",
    "\\end{bmatrix}^T\n",
    "=\n",
    "\\begin{bmatrix}\n",
    " 1 \\\\\n",
    " 2 \\\\\n",
    " 3\n",
    "\\end{bmatrix}$\n",
    "\n",
    "Let's code it up below!"
   ]
  },
  {
   "cell_type": "code",
   "execution_count": 18,
   "id": "f6e3ee30-c9be-4d90-8e20-32d9a44999df",
   "metadata": {},
   "outputs": [
    {
     "name": "stdout",
     "output_type": "stream",
     "text": [
      "[1]\n",
      "[2]\n",
      "[3]\n"
     ]
    }
   ],
   "source": [
    "# Initialize transposed vector\n",
    "Tvec = []\n",
    "\n",
    "# Loop through columns\n",
    "for i,j in enumerate(vec1[0]):\n",
    "    # Loop through row\n",
    "    # Initialize temp list\n",
    "    temp = []\n",
    "    for k,l in enumerate(vec1):\n",
    "        temp.append(vec1[k][i])\n",
    "    Tvec.append(temp)\n",
    "        \n",
    "for a in Tvec:\n",
    "    print(a)"
   ]
  },
  {
   "cell_type": "code",
   "execution_count": 14,
   "id": "d86b53d4-534f-437f-8fcf-304a9545f237",
   "metadata": {},
   "outputs": [],
   "source": [
    "def transpose_matrix(matrix):\n",
    "    '''\n",
    "    The function takes the matrix as the argument\n",
    "    \n",
    "    T_mat[j][i] = mat[i][j]\n",
    "    '''\n",
    "    Tmat = [\n",
    "        [row[i] for row in matrix]\n",
    "        for i,j in enumerate(matrix[0])\n",
    "    ]\n",
    "    \n",
    "    return Tmat"
   ]
  },
  {
   "cell_type": "code",
   "execution_count": 24,
   "id": "6bdfcd1e-b893-4fca-8d5f-82ccad07ed95",
   "metadata": {},
   "outputs": [
    {
     "name": "stdout",
     "output_type": "stream",
     "text": [
      "[4]\n",
      "[5]\n",
      "[6]\n",
      "\n",
      "\n",
      "[32]\n",
      "\n",
      "\n",
      "[4, 5, 6]\n",
      "[8, 10, 12]\n",
      "[12, 15, 18]\n"
     ]
    }
   ],
   "source": [
    "Tvec2 = transpose_matrix(vec2)\n",
    "\n",
    "for a in Tvec2:\n",
    "    print(a)\n",
    "    \n",
    "# Multiply the transposed vector by the first vector\n",
    "prvec = matrix_product(vec1,Tvec2)\n",
    "\n",
    "print(\"\\n\")\n",
    "\n",
    "for b in prvec:\n",
    "    print(b)\n",
    "    \n",
    "Tvec1 = transpose_matrix(vec1)\n",
    "\n",
    "prvec2 = matrix_product(Tvec1,vec2)\n",
    "\n",
    "print(\"\\n\")\n",
    "for c in prvec2:\n",
    "    print(c)"
   ]
  },
  {
   "cell_type": "markdown",
   "id": "99fa82a3-1bc9-43c5-9682-82c9c44d3fc6",
   "metadata": {},
   "source": [
    "As seen above, depending on which vector was transposed two different \n",
    "answers were received. The product of the horizontal vector times the vertical \n",
    "vector gave us a one element matrix, whereas the vertical vector times the \n",
    "horizontal vector gave an answer in the form of a 3 x 3 matrix.\n",
    "\n",
    "There will also be times when multiple matrices need to be multiplied together. \n",
    "Therefore, rather than using the function for matrix multiplication above \n",
    "repeatedly, it would be more helpful if we coded it to take a list of matrices \n",
    "to multiply together. The code below does exactly that."
   ]
  },
  {
   "cell_type": "code",
   "execution_count": 33,
   "id": "d002f56e-f0f0-4fb2-b2a2-447f1adbecb6",
   "metadata": {},
   "outputs": [],
   "source": [
    "def chain_matrix_multiplication(mat_list):\n",
    "    '''\n",
    "    Multiply multiple matrices together \n",
    "    in order.\n",
    "    \n",
    "    ex: ABC --> (A*B)*C --> AB*C = ABC\n",
    "    '''\n",
    "    if type(mat_list) == list:\n",
    "        # Pull out the first matrix out of the list\n",
    "        mat_prod = mat_list[0]\n",
    "        \n",
    "        for mat in mat_list[1:]:\n",
    "            mat_prod = matrix_product(mat_prod,mat)\n",
    "        \n",
    "    else:\n",
    "        raise Exception(\"Input must be list\")\n",
    "        \n",
    "    return mat_prod"
   ]
  },
  {
   "cell_type": "code",
   "execution_count": 35,
   "id": "fd15e295-6f61-41d1-8cf5-ee44d54c8f89",
   "metadata": {},
   "outputs": [
    {
     "name": "stdin",
     "output_type": "stream",
     "text": [
      "Value for element 00 1\n",
      "Value for element 10 2\n",
      "Value for element 00 3\n",
      "Value for element 01 4\n",
      "Value for element 00 5\n",
      "Value for element 01 6\n",
      "Value for element 10 7\n",
      "Value for element 11 8\n"
     ]
    },
    {
     "name": "stdout",
     "output_type": "stream",
     "text": [
      "First matrix:\n",
      "\n",
      "[1]\n",
      "[2]\n",
      "\n",
      "Second matrix:\n",
      "\n",
      "[3, 4]\n",
      "\n",
      "Third matrix:\n",
      "\n",
      "[5, 6]\n",
      "[7, 8]\n",
      "\n",
      "Product of matrices is:\n",
      "\n",
      "[43, 50]\n",
      "[86, 100]\n"
     ]
    }
   ],
   "source": [
    "m1tt = new_matrix(2,1)\n",
    "m2tt = new_matrix(1,2)\n",
    "m3tt = new_matrix(2,2)\n",
    "\n",
    "print(\"First matrix:\\n\")\n",
    "for a in m1tt:\n",
    "    print(a)\n",
    "print(\"\\nSecond matrix:\\n\")\n",
    "for b in m2tt:\n",
    "    print(b)\n",
    "print(\"\\nThird matrix:\\n\")\n",
    "for c in m3tt:\n",
    "    print(c)\n",
    "prodtt = chain_matrix_multiplication([m1tt,m2tt,m3tt])\n",
    "print(\"\\nProduct of matrices is:\\n\")\n",
    "for d in prodtt:\n",
    "    print(d)"
   ]
  },
  {
   "cell_type": "markdown",
   "id": "ef01e62e-4a49-4e9e-92ca-c561e2552067",
   "metadata": {},
   "source": [
    "In algebra, the next step after multiplication would normally be division. \n",
    "However, matrices cannot be divided. The \"equivalent\" of \"dividing\" matrices \n",
    "would be multiply by the inverse.\n",
    "\n",
    "For example:\n",
    "$$\\require{cancel}$$\n",
    "$\\xcancel{\\textbf{A} \\div \\textbf{B}} \\Rightarrow \\textbf{A} * \\textbf{B}^{-1}$\n",
    "\n",
    "Note: The inverse only exists if $\\textbf{B}$ is a square matrix."
   ]
  },
  {
   "cell_type": "markdown",
   "id": "687f6d34-65fc-4d69-9e34-aaca3da0a779",
   "metadata": {},
   "source": [
    "## Inverse of a Matrix\n",
    "### Matrix Determinant"
   ]
  },
  {
   "cell_type": "markdown",
   "id": "a512f513-936a-4948-a9e0-bc2034163b64",
   "metadata": {},
   "source": [
    "Before we solve for the inverse of a matrix, we must first \n",
    "solve for the determinant of the matrix. The determinant of \n",
    "a matrix, denoted as $|\\textbf{A}|$ or $det(\\textbf{A})$, gives \n",
    "a singular value which is used in many different mathematical \n",
    "situations e.g., finding the inverse, system of linear equations, \n",
    "etc.\n",
    "\n",
    "Just like the inverse, the determinant can only be found for \n",
    "square matrices.\n",
    "\n",
    "The determinant is rather simple to calculate for a 2 x 2 matrix. \n",
    "Consider the matrix $\\textbf{A}$:\n",
    "\n",
    "$\\textbf{A} = \n",
    "\\begin{bmatrix}\n",
    " a & b \\\\\n",
    " c & d\n",
    "\\end{bmatrix}$\n",
    "\n",
    "The determinant $|\\textbf{A}|$ is found by taking the difference \n",
    "from the diagonal elements multiplied by each other. In other words:\n",
    "\n",
    "$|\\textbf{A}| = \n",
    "|\\begin{bmatrix}\n",
    " a & b \\\\\n",
    " c & d\n",
    "\\end{bmatrix}|\n",
    "=\n",
    "a * d - c * b$\n",
    "\n",
    "So as a simple example:\n",
    "\n",
    "$|\\textbf{A}| = \n",
    "|\\begin{bmatrix}\n",
    " 1 & 2 \\\\\n",
    " 3 & 4\n",
    "\\end{bmatrix}|\n",
    "=\n",
    "1 * 4 - 3 * 2 = 4 - 6 = -2$\n",
    "\n",
    "A 3 x 3 matrix, while still doable by hand, becomes impractical \n",
    "very quickly. 4 x 4 matrices and larger are especially impractical. \n",
    "Therefore, a technique which splits the matrix into smaller 2 x 2 \n",
    "matrices, termed $\\textbf{minors} (\\textbf{M})$ is implemented.\n",
    "Consider matrix $\\textbf{B}$:\n",
    "\n",
    "$|\\textbf{B}| = \n",
    "|\\begin{bmatrix}\n",
    " a & b & c \\\\\n",
    " d & e & f \\\\\n",
    " g & h & i\n",
    "\\end{bmatrix}|\n",
    "=\n",
    "a * \n",
    "|\\begin{bmatrix}\n",
    " e & f \\\\\n",
    " h & i\n",
    "\\end{bmatrix}|\n",
    "- b * \n",
    "|\\begin{bmatrix}\n",
    " d & f \\\\\n",
    " g & i\n",
    "\\end{bmatrix}|\n",
    "+ c *\n",
    "|\\begin{bmatrix}\n",
    " d & e \\\\\n",
    " g & h\n",
    "\\end{bmatrix}|$\n",
    "\n",
    "Where \n",
    "$\\textbf{M}_{11} =$\n",
    "$\\begin{bmatrix}\n",
    " e & f \\\\\n",
    " h & i\n",
    "\\end{bmatrix}$;\n",
    "\n",
    "$\\textbf{M}_{12} =$ \n",
    "$\\begin{bmatrix}\n",
    " d & f \\\\\n",
    " g & i\n",
    "\\end{bmatrix}$;\n",
    "\n",
    "$\\textbf{M}_{13} =$\n",
    "$\\begin{bmatrix}\n",
    " d & e \\\\\n",
    " g & h\n",
    "\\end{bmatrix}$\n",
    "\n",
    "By breaking the 3 x 3 matrix into these 2 x 2 \n",
    "$\\textbf{minor}$ matrices, finding the determinant \n",
    "becomes much easier. Because now you would only have to find the \n",
    "determinants of the 2 x 2 matrices and sum them up.\n",
    "\n",
    "Note the $+-+$ pattern in the determinants above. This is a very \n",
    "important point. This is because each term in a determinant is \n",
    "multiplied by $(-1)^{ij}$, where $i$ and $j$ are the positions of \n",
    "the rows and columns, respectively.\n",
    "\n",
    "Another important point to note is that if the determinant of \n",
    "a matrix is $0$, this is known as a singularity. For matrices \n",
    "that are singularities, the inverse does $\\textbf{not}$ exist.\n",
    "\n",
    "Coding the determinant is actually a bit tricky. Therefore, there are \n",
    "two ways to code it up. A recursive \"path\" and creating an upper triangle  \n",
    "through row operations. The first code will be the recursive route, \n",
    "and the next will be through creating the upper triangle. Both determinant codes were \n",
    "pulled from the $\\textbf{LinearAlgebraPurePython.py}$ file from \n",
    "$\\textbf{BasicLinearAlgebraToolsPy}$ by $\\textbf{ThomIves}$ \n",
    "on $\\textbf{github}$."
   ]
  },
  {
   "cell_type": "code",
   "execution_count": 1,
   "id": "360014ca-7124-4af9-9c23-2726ad64deaf",
   "metadata": {},
   "outputs": [],
   "source": [
    "'''\n",
    "The recursive determinant and the diagonalized determinant \n",
    "both use a function called copy_matrix.\n",
    "\n",
    "The below code is the copy matrix function, which only \n",
    "copies the matrix under a different variable so that the \n",
    "original matrix remains the same.\n",
    "'''\n",
    "def copy_matrix(matrix):\n",
    "    '''\n",
    "    Creates a copy of the matrix\n",
    "    '''\n",
    "    # Create a matrix of zeroes of \n",
    "    # same dimension as the matrix\n",
    "    matrix_copy = [\n",
    "        [0 for col in range(len(matrix[0]))]\n",
    "        for row in range(len(matrix))\n",
    "    ]\n",
    "    \n",
    "    # Copy all elements in matrix to the \n",
    "    # zeroes matrix\n",
    "    for i in range(len(matrix)):\n",
    "        for j in range(len(matrix[0])):\n",
    "            matrix_copy[i][j] = matrix[i][j]\n",
    "            \n",
    "    return matrix_copy"
   ]
  },
  {
   "cell_type": "code",
   "execution_count": 2,
   "id": "da2ded98-dc34-4ebe-bc59-defc695c12aa",
   "metadata": {},
   "outputs": [],
   "source": [
    "def matrix_determinant_recur(matrix,total=0):\n",
    "    '''\n",
    "    Find the determinant of the matrix.\n",
    "    \n",
    "    The matrix must be a square matrix\n",
    "    '''\n",
    "    if len(matrix) == len(matrix[0]):\n",
    "        # Store indices in a list\n",
    "        indices = list(range(len(matrix)))\n",
    "        \n",
    "        # When at a 2x2 submatrix, report determinant \n",
    "        # of 2x2 matrix\n",
    "        if len(matrix) == 2 and len(matrix[0]) == 2:\n",
    "            val = matrix[0][0] * matrix[1][1] - matrix[1][0] * matrix[0][1]\n",
    "            return val\n",
    "        \n",
    "        # Define submatrices for focus column\n",
    "        # and call this function\n",
    "        for fc in indices:\n",
    "            # Find the submatrix for each focus column\n",
    "            mat_copy = copy_matrix(matrix) # Make a copy of matrix\n",
    "            mat_copy = mat_copy[1:] # Remove first row\n",
    "            height = len(mat_copy)\n",
    "            \n",
    "            for i in range(height): # for each remaining submatrix\n",
    "                mat_copy[i] = mat_copy[i][0:fc] + mat_copy[i][fc+1:] # Zero focus column elements\n",
    "            \n",
    "            sign = (-1) ** (fc % 2) # alternate signs for submatrix multiplier\n",
    "            sub_det = matrix_determinant_recur(mat_copy) # Pass submatrix recursively\n",
    "            total += sign * matrix[0][fc] * sub_det # total from recursions\n",
    "            \n",
    "    else:\n",
    "        raise Exception(\"Not a square Matrix!\")\n",
    "        \n",
    "    return total"
   ]
  },
  {
   "cell_type": "markdown",
   "id": "9c30c9a5-85f2-46c2-b01b-850f5c4b90c5",
   "metadata": {},
   "source": [
    "Let's test the code!"
   ]
  },
  {
   "cell_type": "code",
   "execution_count": 23,
   "id": "2c4bfe61-189c-4d13-812e-5d330dd337f1",
   "metadata": {},
   "outputs": [
    {
     "name": "stdout",
     "output_type": "stream",
     "text": [
      "[1, 2]\n",
      "[3, 4]\n",
      "\n",
      "The determinant for the 2 x 2 matrix is: -2\n",
      "\n",
      "[1, 2, 3]\n",
      "[4, 5, 6]\n",
      "[7, 8, 9]\n",
      "\n",
      "The determinant for the 3 x 3 matrix is: 0\n",
      "\n"
     ]
    }
   ],
   "source": [
    "det1 = matrix_determinant_recur(mat1)\n",
    "det2 = matrix_determinant_recur(B)\n",
    "\n",
    "for n in mat1:\n",
    "    print(n)\n",
    "print(f\"\\nThe determinant for the 2 x 2 matrix is: {det1}\\n\")\n",
    "\n",
    "for m in B:\n",
    "    print(m)\n",
    "\n",
    "print(f\"\\nThe determinant for the 3 x 3 matrix is: {det2}\\n\")"
   ]
  },
  {
   "cell_type": "markdown",
   "id": "fc3c2ac1-eb6a-44d2-9702-954a4534ed70",
   "metadata": {},
   "source": [
    "Now let's code the code by creating an upper triangle matrix \n",
    "through row operations."
   ]
  },
  {
   "cell_type": "code",
   "execution_count": 24,
   "id": "0917135a-52ba-47a1-b8da-5f767032c29f",
   "metadata": {},
   "outputs": [],
   "source": [
    "def matrix_determinant(matrix):\n",
    "    '''\n",
    "    Find determinant of matrix through creating an upper \n",
    "    triangle matrix using row operations. \n",
    "    \n",
    "    Then product of diagonal elements is the determinant.\n",
    "    \n",
    "    Again matrix must be a square matrix.\n",
    "    '''\n",
    "    n = len(matrix)\n",
    "    col = len(matrix[0])\n",
    "    mat_copy = copy_matrix(matrix)\n",
    "    \n",
    "    # Ensure square matrix\n",
    "    if n == col:\n",
    "        # Row manipulate matrix into an upper triangle matrix\n",
    "        for fd in range(n): # fd stands for focus diagonal\n",
    "            if mat_copy[fd][fd] == 0:\n",
    "                mat_copy[fd][fd] = 1.0e-18 # Cheating by adding zero + ~zero\n",
    "            for i in range(fd+1, n): # skip row with fd in it\n",
    "                crScaler = mat_copy[i][fd] / mat_copy[fd][fd] # cr is current row\n",
    "                for j in range(n): # cr - crScaler * fdRow, one element at a time\n",
    "                    mat_copy[i][j] = mat_copy[i][j] - crScaler * mat_copy[fd][j]\n",
    "                    \n",
    "        # Once matrix is in upper triangle\n",
    "        product = 1.0\n",
    "        for i in range(n):\n",
    "            product *= mat_copy[i][i] # product of diagonals\n",
    "            \n",
    "        return product\n",
    "    \n",
    "    else:\n",
    "        raise Exception(\"Not a square matrix!\")"
   ]
  },
  {
   "cell_type": "code",
   "execution_count": 25,
   "id": "9c2f0e68-38d3-4d97-9487-5e5287609b1d",
   "metadata": {},
   "outputs": [
    {
     "name": "stdout",
     "output_type": "stream",
     "text": [
      "[1, 2]\n",
      "[3, 4]\n",
      "\n",
      "The determinant for the 2 x 2 matrix is: -2.0\n",
      "\n",
      "[1, 2, 3]\n",
      "[4, 5, 6]\n",
      "[7, 8, 9]\n",
      "\n",
      "The determinant for the 3 x 3 matrix is: -3.0000000000000002e-18\n",
      "\n"
     ]
    }
   ],
   "source": [
    "'''\n",
    "Let's test it!\n",
    "'''\n",
    "det3 = matrix_determinant(mat1)\n",
    "det4 = matrix_determinant(B)\n",
    "\n",
    "for n in mat1:\n",
    "    print(n)\n",
    "print(f\"\\nThe determinant for the 2 x 2 matrix is: {det3}\\n\")\n",
    "\n",
    "for m in B:\n",
    "    print(m)\n",
    "\n",
    "print(f\"\\nThe determinant for the 3 x 3 matrix is: {det4}\\n\")"
   ]
  },
  {
   "cell_type": "markdown",
   "id": "1b671802-6961-49f8-b9e8-7b17729c6804",
   "metadata": {},
   "source": [
    "As seen above, the answers are pretty much the same. The only difference \n",
    "here is the fact that there is now a decimal and that the $0$ is \n",
    "in scientific notation.\n",
    "\n",
    "### Cofactor Matrix\n",
    "\n",
    "This leads us to one step closer to finding the inverse of a matrix. \n",
    "The next step is finding the $\\textbf{cofactor}$ matrix. The cofactor \n",
    "matrix ($\\textbf{C}$), is the matrix conformed of the determinants of all \n",
    "the minor matrices of the original matrix. In other words, for a 3 x 3 \n",
    "matrix the cofactor matrix is:\n",
    "\n",
    "$\\textbf{C} =\n",
    "\\begin{bmatrix}\n",
    " |M_{11}| & |M_{12}| & |M_{13}| \\\\\n",
    " |M_{21}| & |M_{22}| & |M_{23}| \\\\\n",
    " |M_{31}| & |M_{32}| & |M_{33}|\n",
    "\\end{bmatrix}$\n",
    "\n",
    "Again, the same as the inverse and determinant, the cofactor matrix can \n",
    "only be found for a square matrix.\n",
    "\n",
    "The code below for the cofactor matrix will be using a portion of the \n",
    "recursive determinant code above."
   ]
  },
  {
   "cell_type": "code",
   "execution_count": 26,
   "id": "7e0e8a7e-f4c7-48c3-9070-d3982973aaf2",
   "metadata": {},
   "outputs": [],
   "source": [
    "def matrix_cofactor(matrix):\n",
    "    '''\n",
    "    The cofactor matrix is the matrix of \n",
    "    determinants of all the minor matrices \n",
    "    found in the original matrix\n",
    "\n",
    "    The cofactor matrix has to be a square, the same \n",
    "    as the original matrix\n",
    "    \n",
    "    This code uses an exerpt of the recursive determinant\n",
    "    code\n",
    "    '''\n",
    "    if len(matrix) == len(matrix[0]):\n",
    "    # Store indices in a list\n",
    "        indices = list(range(len(matrix)))\n",
    "        \n",
    "        # Define submatrices for focus column\n",
    "        # and call this function\n",
    "        cofactor_mat = []\n",
    "        for nnn in range(len(matrix)):\n",
    "            corow = []\n",
    "            for fc in indices:\n",
    "                # Find the submatrix for each focus column\n",
    "                mat_copy = copy_matrix(matrix) # Make a copy of matrix\n",
    "                # mat_copy = mat_copy[1:] # Remove first row\n",
    "                mat_copy.pop(nnn) # Remove rows sequentially\n",
    "                # print(mat_copy)\n",
    "                height = len(mat_copy)\n",
    "                \n",
    "                for i in range(height): # for each remaining submatrix\n",
    "                    mat_copy[i] = mat_copy[i][0:fc] + mat_copy[i][fc+1:] # Zero focus column elements\n",
    "                \n",
    "                sign = (-1) ** (fc % 2) # alternate signs for submatrix multiplier\n",
    "                sub_det = matrix_determinant_recur(mat_copy)\n",
    "                corow.append(sub_det) # Add determinants to the specified row of cofactor matrix\n",
    "                # print(sub_det)\n",
    "            cofactor_mat.append(corow)\n",
    "            \n",
    "        # Fix all the signs in the cofactor matrix\n",
    "        cofactor_matrix = copy_matrix(cofactor_mat)\n",
    "        for k in range(len(cofactor_mat)):\n",
    "            for l in range(len(cofactor_mat)):\n",
    "                ind_sum = k + l\n",
    "                new_sign = (-1) ** (ind_sum % 2)\n",
    "                cofactor_matrix[k][l] = new_sign * cofactor_mat[k][l]\n",
    "                \n",
    "    else:\n",
    "        raise Exception(\"Not a square matrix!\")\n",
    "        \n",
    "    return cofactor_matrix"
   ]
  },
  {
   "cell_type": "markdown",
   "id": "e96abd23-ff56-4e55-b9a7-b0b5f726cff3",
   "metadata": {},
   "source": [
    "Let's test it!"
   ]
  },
  {
   "cell_type": "code",
   "execution_count": 27,
   "id": "fd3bccf1-abea-4d6b-a375-b4b690d46380",
   "metadata": {},
   "outputs": [
    {
     "name": "stdin",
     "output_type": "stream",
     "text": [
      "Value for element 00 2\n",
      "Value for element 01 4\n",
      "Value for element 02 3\n",
      "Value for element 10 1\n",
      "Value for element 11 -2\n",
      "Value for element 12 -2\n",
      "Value for element 20 -3\n",
      "Value for element 21 3\n",
      "Value for element 22 2\n"
     ]
    },
    {
     "name": "stdout",
     "output_type": "stream",
     "text": [
      "[2, 4, 3]\n",
      "[1, -2, -2]\n",
      "[-3, 3, 2]\n",
      "\n",
      "\n",
      "[2, 4, -3]\n",
      "[1, 13, -18]\n",
      "[-2, 7, -8]\n"
     ]
    }
   ],
   "source": [
    "tstmat = new_matrix(3,3)\n",
    "comat = matrix_cofactor(tstmat)\n",
    "\n",
    "for n in tstmat:\n",
    "    print(n)\n",
    "print(\"\\n\")\n",
    "for m in comat:\n",
    "    print(m)"
   ]
  },
  {
   "cell_type": "code",
   "execution_count": 28,
   "id": "88c21ea2-2673-483a-b7eb-9550f102282d",
   "metadata": {},
   "outputs": [
    {
     "name": "stdin",
     "output_type": "stream",
     "text": [
      "Value for element 00 1\n",
      "Value for element 01 2\n",
      "Value for element 02 3\n",
      "Value for element 03 4\n",
      "Value for element 10 1\n",
      "Value for element 11 2\n",
      "Value for element 12 5\n",
      "Value for element 13 4\n",
      "Value for element 20 1\n",
      "Value for element 21 5\n",
      "Value for element 22 3\n",
      "Value for element 23 4\n",
      "Value for element 30 1\n",
      "Value for element 31 2\n",
      "Value for element 32 3\n",
      "Value for element 33 4\n"
     ]
    },
    {
     "name": "stdout",
     "output_type": "stream",
     "text": [
      "[1, 2, 3, 4]\n",
      "[1, 2, 5, 4]\n",
      "[1, 5, 3, 4]\n",
      "[1, 2, 3, 4]\n",
      "\n",
      "\n",
      "[-24, 0, 0, 6]\n",
      "[0, 0, 0, 0]\n",
      "[0, 0, 0, 0]\n",
      "[24, 0, 0, -6]\n"
     ]
    }
   ],
   "source": [
    "tstmat2 = new_matrix(4,4)\n",
    "comat2 = matrix_cofactor(tstmat2)\n",
    "\n",
    "for n in tstmat2:\n",
    "    print(n)\n",
    "print(\"\\n\")\n",
    "for m in comat2:\n",
    "    print(m)"
   ]
  },
  {
   "cell_type": "markdown",
   "id": "b5dcffc2-fb64-4f1b-ab8f-a4c5d1318419",
   "metadata": {},
   "source": [
    "Now that the cofactor matrix is found, it is now time to find \n",
    "the inverse of the matrix!\n",
    "\n",
    "### Matrix Inverse\n",
    "\n",
    "The inverse of the matrix is now relatively simple to find, now that \n",
    "we have the determinant and cofactor matrix coded up. The inverse matrix \n",
    "is each element in the transpose of the cofactor matrix divided by the \n",
    "determinant of the original matrix. In other words:\n",
    "\n",
    "$\\textbf{A} = \\frac{C^T_{ij}}{|\\textbf{A}|}$\n",
    "\n",
    "Let's code it up!\n",
    "\n",
    "Note: because of the decimal \"issue\" with the determinant found by \n",
    "using the upper triangle method, the $\\textbf{numpy}$ package needs \n",
    "to be used for its' rounding feature."
   ]
  },
  {
   "cell_type": "code",
   "execution_count": 29,
   "id": "b88550e4-6a1d-4fec-97a1-3a46d3b55319",
   "metadata": {},
   "outputs": [],
   "source": [
    "import numpy as np"
   ]
  },
  {
   "cell_type": "code",
   "execution_count": 30,
   "id": "eb46f3ad-bc6a-4b8b-a399-3cf060910598",
   "metadata": {},
   "outputs": [],
   "source": [
    "def matrix_inverse(matrix):\n",
    "    '''\n",
    "    The inverse of the matrix is found by finding \n",
    "    the cofactor matrix, transposing it, and dividing \n",
    "    each element by the determinant of the original matrix.\n",
    "    \n",
    "    Only square matrices have an inverse\n",
    "    '''\n",
    "    if len(matrix) == len(matrix[0]):\n",
    "        # Get determinant of matrix\n",
    "        det = matrix_determinant(matrix)\n",
    "        #print(det)\n",
    "        inverse_mat = [\n",
    "            [0 for y in range(len(matrix[0]))]\n",
    "            for x in range(len(matrix))\n",
    "        ]\n",
    "        \n",
    "        # The inverse of a 2x2 matrix will\n",
    "        # be found differently than larger \n",
    "        # matrices\n",
    "        if len(matrix) > 2:\n",
    "            # Find cofactor matrix\n",
    "            cof = matrix_cofactor(matrix)\n",
    "            \n",
    "            # Determinant must not be 0\n",
    "            if np.round(det,9) != 0:\n",
    "                coft = transpose_matrix(cof)\n",
    "                for i in range(len(matrix)):\n",
    "                    for j in range(len(matrix[0])):\n",
    "                        inverse_mat[i][j] = coft[i][j] / det\n",
    "                    \n",
    "            else:\n",
    "                print(\"Matrix does not have an inverse\")\n",
    "        else:\n",
    "            # Find inverse of 2x2 matrix\n",
    "            cof = [\n",
    "                [0 for y in range(len(matrix[0]))]\n",
    "                for x in range(len(matrix))\n",
    "            ]\n",
    "            cof[0][0] = matrix[1][1]\n",
    "            cof[0][1] = -1 * matrix[0][1]\n",
    "            cof[1][0] = -1 * matrix[1][0]\n",
    "            cof[1][1] = matrix[0][0]\n",
    "            \n",
    "            for i in range(len(matrix)):\n",
    "                for j in range(len(matrix[0])):\n",
    "                    inverse_mat[i][j] = cof[i][j] / det\n",
    "    else:\n",
    "        raise Exception(\"Not a square matrix; Does not have an inverse!\")\n",
    "        \n",
    "    return inverse_mat"
   ]
  },
  {
   "cell_type": "markdown",
   "id": "6a7ffe6e-3e1f-405d-8b04-5b5e42621e51",
   "metadata": {},
   "source": [
    "Let's test the code and make sure that the inverse is correct. This \n",
    "can be done by multiplying the original matrix by the inverse. If the \n",
    "returned matrix is the $\\textbf{Identity}$ matrix ($\\textbf{I}$), which \n",
    "is the matrix equivalent of $1$, then the inverse is correct. The identity \n",
    "matrix is a matrix with $1$ on the diagonal. For a 3 x 3 matrix the identity, \n",
    "$\\textbf{I}$ is:\n",
    "\n",
    "$\\textbf{I} =\n",
    "\\begin{bmatrix}\n",
    " 1 & 0 & 0 \\\\\n",
    " 0 & 1 & 0 \\\\\n",
    " 0 & 0 & 1\n",
    "\\end{bmatrix}$"
   ]
  },
  {
   "cell_type": "code",
   "execution_count": 32,
   "id": "3b44ea84-35f8-41b3-aed6-f6b22284f218",
   "metadata": {},
   "outputs": [
    {
     "name": "stdout",
     "output_type": "stream",
     "text": [
      "The original matrix is:\n",
      "\n",
      "[2, 4, 3]\n",
      "[1, -2, -2]\n",
      "[-3, 3, 2]\n",
      "\n",
      "The inverse matrix is:\n",
      "\n",
      "[0.18181818181818182, 0.09090909090909091, -0.18181818181818182]\n",
      "[0.36363636363636365, 1.1818181818181819, 0.6363636363636364]\n",
      "[-0.2727272727272727, -1.6363636363636365, -0.7272727272727273]\n",
      "\n",
      "The proof is:\n",
      "\n",
      "[1.0000000000000002, 0.0, 0.0]\n",
      "[0.0, 1.0, 0.0]\n",
      "[0.0, 4.440892098500626e-16, 1.0]\n"
     ]
    }
   ],
   "source": [
    "invtest = matrix_inverse(tstmat)\n",
    "\n",
    "print(\"The original matrix is:\\n\")\n",
    "for n in tstmat:\n",
    "    print(n)\n",
    "print(\"\\nThe inverse matrix is:\\n\")\n",
    "for m in invtest:\n",
    "    print(m)\n",
    "print(\"\\nThe proof is:\\n\")\n",
    "tmult = matrix_product(tstmat,invtest)\n",
    "for i in tmult:\n",
    "    print(i)"
   ]
  },
  {
   "cell_type": "markdown",
   "id": "b9f55204-e42b-4bf9-843a-32c8047d29ce",
   "metadata": {},
   "source": [
    "As seen above, the code for the inverse does indeed give us the \n",
    "correct inverse.\n",
    "\n",
    "There are many other operations and uses for matrices that can be used \n",
    "for all sorts of applications. However, that is beyond the scope of this workbook. \n",
    "While all the above operations were performed using standard $\\textbf{python}$ commands, \n",
    "these operations and more can be completed through using the $\\textbf{python}$ library \n",
    "$\\textbf{numpy}$."
   ]
  }
 ],
 "metadata": {
  "kernelspec": {
   "display_name": "Python 3 (ipykernel)",
   "language": "python",
   "name": "python3"
  },
  "language_info": {
   "codemirror_mode": {
    "name": "ipython",
    "version": 3
   },
   "file_extension": ".py",
   "mimetype": "text/x-python",
   "name": "python",
   "nbconvert_exporter": "python",
   "pygments_lexer": "ipython3",
   "version": "3.9.13"
  }
 },
 "nbformat": 4,
 "nbformat_minor": 5
}
